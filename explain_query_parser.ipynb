{
 "cells": [
  {
   "cell_type": "markdown",
   "metadata": {},
   "source": [
    "## Writing a parser to explain queries"
   ]
  },
  {
   "cell_type": "markdown",
   "metadata": {},
   "source": [
    "Using GPT4All to explain SQL queries is inconsistent. A small LLM like orca_mini sometimes is able to explain what the query does with reasonable accuracy, but not always. Using a larger LLM like ChatGPT or Bard would be more reliable, but making API calls to them from within EvaDB will be both costly and take significant time to execute. Another approach we could explore is to write a custom parser which deconstructs the SQL query systematically and explains what it is doing. Since SQL queries can be quite complicated, here I will focus on five queries and clauses\n",
    "\n",
    "- SELECT\n",
    "- INSERT\n",
    "- WHERE\n",
    "- GROUP BY\n",
    "- ORDER BY"
   ]
  },
  {
   "cell_type": "markdown",
   "metadata": {},
   "source": [
    "### Simple SELECT\n",
    "\n",
    "Let's start with parsing simple SELECT statments which don't include AS clauses"
   ]
  },
  {
   "cell_type": "code",
   "execution_count": 102,
   "metadata": {},
   "outputs": [],
   "source": [
    "def parse(query: str) -> str:\n",
    "    tokens = query.split(\" \")\n",
    "    command = tokens[0]\n",
    "    if (command == \"SELECT\"):\n",
    "        return parse_select(tokens)\n",
    "    else:\n",
    "        return \"\"\n",
    "\n",
    "def parse_select(tokens: list[str]) -> str:\n",
    "    try:\n",
    "        end_cols = tokens.index(\"FROM\")\n",
    "    except:\n",
    "        return \"The given SELECT query is malformed. It does not have a FROM clause.\"\n",
    "\n",
    "    cols = tokens[1:end_cols]\n",
    "    tables = tokens[end_cols+1:]\n",
    "    \n",
    "    if (cols[0] == \"*\"):\n",
    "        return f\"The given query selects all columns from the {tables[0]} table.\"\n",
    "    else:\n",
    "        return f\"The given query selects the {' '.join(cols)} columns from the {tables[0]} table.\"\n",
    "\n",
    "def explain_queries(queries: list[str]):\n",
    "    for i, q in enumerate(queries):\n",
    "        print(str(i+1) + \". \" + parse(q))\n",
    "        print()\n"
   ]
  },
  {
   "cell_type": "code",
   "execution_count": 103,
   "metadata": {},
   "outputs": [
    {
     "name": "stdout",
     "output_type": "stream",
     "text": [
      "1. The given query selects all columns from the students table.\n",
      "\n",
      "2. The given query selects the name, id columns from the students table.\n",
      "\n"
     ]
    }
   ],
   "source": [
    "query1 = \"SELECT * FROM students\"\n",
    "query2 = \"SELECT name, id FROM students\"\n",
    "\n",
    "queries = [query1, query2]\n",
    "explain_queries(queries)"
   ]
  },
  {
   "cell_type": "markdown",
   "metadata": {},
   "source": [
    "### SELECT with AS clauses"
   ]
  },
  {
   "cell_type": "code",
   "execution_count": 104,
   "metadata": {},
   "outputs": [],
   "source": [
    "def parse_select(tokens: list[str]) -> str:\n",
    "    try :\n",
    "        end_cols = tokens.index(\"FROM\")\n",
    "    except:\n",
    "        return \"The given SELECT query is malformed. It does not have a FROM clause.\"\n",
    "    \n",
    "    return handle_columns(tokens, end_cols)\n",
    "\n",
    "def handle_columns(tokens: list[str], end_cols: int) -> str:\n",
    "    cols = tokens[1:end_cols]\n",
    "    tables = tokens[end_cols+1:]\n",
    "\n",
    "    cols = list(map(lambda x: x.strip().strip(\",\"), cols))\n",
    "\n",
    "    if len(cols) == 0:\n",
    "        return f\"The given SELECT query is malformed. It does not specify any columns.\"\n",
    "    if (cols[0] == \"*\"):\n",
    "        return f\"The given query selects all columns from the {tables[0]} table.\"\n",
    "    else:\n",
    "        col_names = []\n",
    "        res_names = []\n",
    "\n",
    "        isColName = True\n",
    "        for s in cols:\n",
    "            if (s != \"AS\"):\n",
    "                if isColName:\n",
    "                    col_names.append(s)\n",
    "                else:\n",
    "                    res_names.append(s)\n",
    "                isColName = not isColName\n",
    "\n",
    "        if len(col_names) == 1:\n",
    "            return f\"The given query selects the {col_names[0]} column as {res_names[0]} from the {tables[0]} table.\"\n",
    "        else:\n",
    "            return f\"The given query selects the {'(' + ', '.join(col_names) + ')'} columns as {'(' + ', '.join(res_names) + ')'} from the {tables[0]} table.\""
   ]
  },
  {
   "cell_type": "code",
   "execution_count": 105,
   "metadata": {},
   "outputs": [
    {
     "name": "stdout",
     "output_type": "stream",
     "text": [
      "1. The given query selects all columns from the students table.\n",
      "\n",
      "2. The given query selects the name column as id from the students table.\n",
      "\n",
      "3. The given query selects the (name, id) columns as (red, blue) from the students table.\n",
      "\n",
      "4. The given SELECT query is malformed. It does not have a FROM clause.\n",
      "\n",
      "5. The given SELECT query is malformed. It does not specify any columns.\n",
      "\n"
     ]
    }
   ],
   "source": [
    "query1 = \"SELECT * FROM students\"\n",
    "query2 = \"SELECT name, id FROM students\"\n",
    "query3 = \"SELECT name AS red, id AS blue FROM students\"\n",
    "query4 = \"SELECT *\"\n",
    "query5 = \"SELECT FROM students\"\n",
    "\n",
    "queries = [query1, query2, query3, query4, query5]\n",
    "explain_queries(queries)"
   ]
  },
  {
   "cell_type": "markdown",
   "metadata": {},
   "source": [
    "### INSERT"
   ]
  },
  {
   "cell_type": "code",
   "execution_count": 106,
   "metadata": {},
   "outputs": [],
   "source": [
    "def parse(query: str) -> str:\n",
    "    tokens = query.split(\" \")\n",
    "    command = tokens[0]\n",
    "    if (command == \"SELECT\"):\n",
    "        return parse_select(tokens)\n",
    "    elif (command == \"INSERT\"):\n",
    "        return parse_insert(tokens)\n",
    "    else:\n",
    "        return \"\"\n",
    "\n",
    "def parse_insert(tokens: list[str]) -> str:\n",
    "    if (len(tokens) < 3):\n",
    "        return \"The given INSERT query is malformed. It does not specify a table.\"\n",
    "    table_name = tokens[2]\n",
    "\n",
    "    end_cols = tokens.index(\"VALUES\")\n",
    "    cols = tokens[3:end_cols]\n",
    "    cols = list(map(lambda x: x.strip('(').strip(')').strip(','), cols))\n",
    "    \n",
    "    vals = tokens[end_cols+1:]\n",
    "    vals = list(map(lambda x: x.strip('(').strip(')').strip(','), vals))\n",
    "    \n",
    "    tupString = \"\"\n",
    "    for i in range(len(cols)):\n",
    "        tupString += (cols[i] + \": \" + vals[i])\n",
    "        if (i != len(cols) - 1):\n",
    "            tupString += \", \"\n",
    "    \n",
    "    return f\"The given INSERT query inserts a tuple with {tupString} into the {table_name} table.\""
   ]
  },
  {
   "cell_type": "code",
   "execution_count": 107,
   "metadata": {},
   "outputs": [
    {
     "name": "stdout",
     "output_type": "stream",
     "text": [
      "1. The given INSERT query is malformed. It does not specify a table.\n",
      "\n",
      "2. The given INSERT query inserts a tuple with id: 1, name: 'krish' into the students table.\n",
      "\n"
     ]
    }
   ],
   "source": [
    "query1 = \"INSERT INTO\"\n",
    "query2 = \"INSERT INTO students (id, name) VALUES (1, 'krish')\"\n",
    "\n",
    "queries = [query1, query2]\n",
    "explain_queries(queries)"
   ]
  },
  {
   "cell_type": "markdown",
   "metadata": {},
   "source": [
    "### WHERE, GROUP, ORDER"
   ]
  },
  {
   "cell_type": "code",
   "execution_count": 194,
   "metadata": {},
   "outputs": [],
   "source": [
    "import re"
   ]
  },
  {
   "cell_type": "code",
   "execution_count": 195,
   "metadata": {},
   "outputs": [],
   "source": [
    "def parse(query: str) -> str:\n",
    "    tokens = re.split(r'[ ,]', query)\n",
    "    tokens = [item for item in tokens if item]\n",
    "    command = tokens[0]\n",
    "    if (command == \"SELECT\"):\n",
    "        return parse_select(tokens)\n",
    "    elif (command == \"INSERT\"):\n",
    "        return parse_insert(tokens)\n",
    "    else:\n",
    "        return \"\"\n",
    "    \n",
    "def parse_select(tokens: list[str]) -> str:\n",
    "    try :\n",
    "        end_cols = tokens.index(\"FROM\")\n",
    "    except:\n",
    "        return \"The given SELECT query is malformed. It does not have a FROM clause.\"\n",
    "\n",
    "    res = handle_columns(tokens, end_cols)\n",
    "\n",
    "    try:\n",
    "        start_where = tokens.index(\"WHERE\")\n",
    "        res += '\\n' + handle_where(tokens, start_where)\n",
    "    except:\n",
    "        return res\n",
    "    \n",
    "    try:\n",
    "        start_group = tokens.index(\"GROUP\")\n",
    "        res += '\\n' + handle_group(tokens, start_group)\n",
    "    except:\n",
    "        return res\n",
    "\n",
    "    try:\n",
    "        start_order = tokens.index(\"ORDER\")\n",
    "        res += '\\n' + handle_order(tokens, start_order)\n",
    "    except:\n",
    "        return res\n",
    "    \n",
    "    return res\n",
    "\n",
    "def handle_where(tokens: list[str], start_where: int) -> str:\n",
    "    \n",
    "    end_where = start_where\n",
    "    while (end_where < len(tokens) and tokens[end_where] != \"GROUP\" and tokens[end_where] != \"ORDER\"):\n",
    "        end_where += 1\n",
    "    where_tokens = tokens[start_where: end_where]\n",
    "    res = 'The query filters on the conditions: '\n",
    "    for i in range(1, len(where_tokens) - 1):\n",
    "        if (where_tokens[i] == '='):\n",
    "            res += where_tokens[i-1]\n",
    "            res += ' = '\n",
    "            res += where_tokens[i+1]\n",
    "            if (i < len(where_tokens) - 2):\n",
    "                res += \", \"\n",
    "    res += \".\"\n",
    "    return res\n",
    "\n",
    "def handle_group(tokens: list[str], start_group: int) -> str:\n",
    "    \n",
    "    end_group = start_group\n",
    "    while (end_group < len(tokens) and tokens[end_group] != \"ORDER\"):\n",
    "        end_group += 1\n",
    "    group_tokens = tokens[start_group: end_group]\n",
    "    if (len(group_tokens) <= 3):\n",
    "        res = 'The query groups on the ' \n",
    "        res += group_tokens[2]\n",
    "        res += ' column.'\n",
    "        return res\n",
    "    else:\n",
    "        res = 'The query groups on the columns: '\n",
    "        for i in range(2, len(group_tokens)):\n",
    "            res += group_tokens[i]\n",
    "            if i < len(group_tokens) - 1:\n",
    "                res += \", \"\n",
    "        res += \".\"\n",
    "        return res\n",
    "\n",
    "def handle_order(tokens: list[str], start_order: int) -> str:\n",
    "    order_tokens = tokens[start_order:]\n",
    "    if (len(order_tokens) <= 3):\n",
    "        res = 'The query orders on the '\n",
    "        res += order_tokens[2]\n",
    "        res += ' column.'\n",
    "        return res\n",
    "    else:\n",
    "        res = 'The query orders on the columns: '\n",
    "        for i in range(2, len(order_tokens)):\n",
    "            res += order_tokens[i]\n",
    "            if i < len(order_tokens) - 1:\n",
    "                res += \", \"\n",
    "        res += \".\"\n",
    "        print(res)\n",
    "        return res"
   ]
  },
  {
   "cell_type": "code",
   "execution_count": 193,
   "metadata": {},
   "outputs": [
    {
     "name": "stdout",
     "output_type": "stream",
     "text": [
      "1. The given query selects all columns from the students table.\n",
      "The query filters on the conditions: id = 1, name = Krish.\n",
      "The query groups on the class column.\n",
      "The query orders on the id column.\n",
      "\n"
     ]
    }
   ],
   "source": [
    "query1 = \"SELECT * FROM students WHERE id = 1, name = Krish GROUP BY class ORDER BY id\"\n",
    "\n",
    "queries = [query1]\n",
    "explain_queries(queries)"
   ]
  }
 ],
 "metadata": {
  "kernelspec": {
   "display_name": "evadb_env",
   "language": "python",
   "name": "python3"
  },
  "language_info": {
   "codemirror_mode": {
    "name": "ipython",
    "version": 3
   },
   "file_extension": ".py",
   "mimetype": "text/x-python",
   "name": "python",
   "nbconvert_exporter": "python",
   "pygments_lexer": "ipython3",
   "version": "3.9.6"
  }
 },
 "nbformat": 4,
 "nbformat_minor": 2
}
