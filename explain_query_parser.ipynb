{
 "cells": [
  {
   "cell_type": "markdown",
   "metadata": {},
   "source": [
    "## Writing a parser to explain queries"
   ]
  },
  {
   "cell_type": "markdown",
   "metadata": {},
   "source": [
    "Using GPT4All to explain SQL queries is inconsistent. A small LLM like orca_mini sometimes is able to explain what the query does with reasonable accuracy, but not always. Using a larger LLM like ChatGPT or Bard would be more reliable, but making API calls to them from within EvaDB will be both costly and take significant time to execute. Another approach we could explore is to write a custom parser which deconstructs the SQL query systematically and explains what it is doing. Since SQL queries can be quite complicated, here I will focus on five queries and clauses\n",
    "\n",
    "- SELECT\n",
    "- INSERT\n",
    "- WHERE\n",
    "- GROUP BY\n",
    "- ORDER BY"
   ]
  },
  {
   "cell_type": "markdown",
   "metadata": {},
   "source": [
    "### Simple SELECT\n",
    "\n",
    "Let's start with parsing simple SELECT statments which don't include AS clauses"
   ]
  },
  {
   "cell_type": "code",
   "execution_count": 4,
   "metadata": {},
   "outputs": [],
   "source": [
    "def parse(query: str) -> str:\n",
    "    tokens = query.split(\" \")\n",
    "    command = tokens[0]\n",
    "    if (command == \"SELECT\"):\n",
    "        return parse_select(tokens)\n",
    "    else:\n",
    "        return \"\"\n",
    "\n",
    "def parse_select(tokens: list[str]) -> str:\n",
    "    try:\n",
    "        end_cols = tokens.index(\"FROM\")\n",
    "    except:\n",
    "        return \"The given SELECT query is malformed. It does not have a FROM clause.\"\n",
    "\n",
    "    cols = tokens[1:end_cols]\n",
    "    tables = tokens[end_cols+1:]\n",
    "    \n",
    "    if (cols[0] == \"*\"):\n",
    "        return f\"The given query selects all columns from the {tables[0]} table.\"\n",
    "    else:\n",
    "        return f\"The given query selects the {' '.join(cols)} columns from the {tables[0]} table.\"\n",
    "\n",
    "def explain_queries(queries: list[str]):\n",
    "    for i, q in enumerate(queries):\n",
    "        print(str(i+1) + \". \" + parse(q))\n",
    "        print()\n"
   ]
  },
  {
   "cell_type": "code",
   "execution_count": 5,
   "metadata": {},
   "outputs": [
    {
     "name": "stdout",
     "output_type": "stream",
     "text": [
      "1. The given query selects all columns from the students table.\n",
      "\n",
      "2. The given query selects the name, id columns from the students table.\n",
      "\n"
     ]
    }
   ],
   "source": [
    "query1 = \"SELECT * FROM students\"\n",
    "query2 = \"SELECT name, id FROM students\"\n",
    "\n",
    "queries = [query1, query2]\n",
    "explain_queries(queries)"
   ]
  },
  {
   "cell_type": "markdown",
   "metadata": {},
   "source": [
    "### SELECT with AS clauses"
   ]
  },
  {
   "cell_type": "code",
   "execution_count": 6,
   "metadata": {},
   "outputs": [],
   "source": [
    "def parse_select(tokens: list[str]) -> str:\n",
    "    try :\n",
    "        end_cols = tokens.index(\"FROM\")\n",
    "    except:\n",
    "        return \"The given SELECT query is malformed. It does not have a FROM clause.\"\n",
    "    \n",
    "    return handle_columns(tokens, end_cols)\n",
    "\n",
    "def handle_columns(tokens: list[str], end_cols: int) -> str:\n",
    "    cols = tokens[1:end_cols]\n",
    "    tables = tokens[end_cols+1:]\n",
    "\n",
    "    cols = list(map(lambda x: x.strip().strip(\",\"), cols))\n",
    "\n",
    "    if len(cols) == 0:\n",
    "        return f\"The given SELECT query is malformed. It does not specify any columns.\"\n",
    "    if (cols[0] == \"*\"):\n",
    "        return f\"The given query selects all columns from the {tables[0]} table.\"\n",
    "    else:\n",
    "        col_names = []\n",
    "        res_names = []\n",
    "\n",
    "        isColName = True\n",
    "        for s in cols:\n",
    "            if (s != \"AS\"):\n",
    "                if isColName:\n",
    "                    col_names.append(s)\n",
    "                else:\n",
    "                    res_names.append(s)\n",
    "                isColName = not isColName\n",
    "\n",
    "        if len(col_names) == 1:\n",
    "            return f\"The given query selects the {col_names[0]} column as {res_names[0]} from the {tables[0]} table.\"\n",
    "        else:\n",
    "            return f\"The given query selects the {'(' + ', '.join(col_names) + ')'} columns as {'(' + ', '.join(res_names) + ')'} from the {tables[0]} table.\""
   ]
  },
  {
   "cell_type": "code",
   "execution_count": 7,
   "metadata": {},
   "outputs": [
    {
     "name": "stdout",
     "output_type": "stream",
     "text": [
      "1. The given query selects all columns from the students table.\n",
      "\n",
      "2. The given query selects the name column as id from the students table.\n",
      "\n",
      "3. The given query selects the (name, id) columns as (red, blue) from the students table.\n",
      "\n",
      "4. The given SELECT query is malformed. It does not have a FROM clause.\n",
      "\n",
      "5. The given SELECT query is malformed. It does not specify any columns.\n",
      "\n"
     ]
    }
   ],
   "source": [
    "query1 = \"SELECT * FROM students\"\n",
    "query2 = \"SELECT name, id FROM students\"\n",
    "query3 = \"SELECT name AS red, id AS blue FROM students\"\n",
    "query4 = \"SELECT *\"\n",
    "query5 = \"SELECT FROM students\"\n",
    "\n",
    "queries = [query1, query2, query3, query4, query5]\n",
    "explain_queries(queries)"
   ]
  },
  {
   "cell_type": "markdown",
   "metadata": {},
   "source": [
    "### INSERT"
   ]
  },
  {
   "cell_type": "code",
   "execution_count": 8,
   "metadata": {},
   "outputs": [],
   "source": [
    "def parse(query: str) -> str:\n",
    "    tokens = query.split(\" \")\n",
    "    command = tokens[0]\n",
    "    if (command == \"SELECT\"):\n",
    "        return parse_select(tokens)\n",
    "    elif (command == \"INSERT\"):\n",
    "        return parse_insert(tokens)\n",
    "    else:\n",
    "        return \"\"\n",
    "\n",
    "def parse_insert(tokens: list[str]) -> str:\n",
    "    if (len(tokens) < 3):\n",
    "        return \"The given INSERT query is malformed. It does not specify a table.\"\n",
    "    table_name = tokens[2]\n",
    "\n",
    "    end_cols = tokens.index(\"VALUES\")\n",
    "    cols = tokens[3:end_cols]\n",
    "    cols = list(map(lambda x: x.strip('(').strip(')').strip(','), cols))\n",
    "    \n",
    "    vals = tokens[end_cols+1:]\n",
    "    vals = list(map(lambda x: x.strip('(').strip(')').strip(','), vals))\n",
    "    \n",
    "    tupString = \"\"\n",
    "    for i in range(len(cols)):\n",
    "        tupString += (cols[i] + \": \" + vals[i])\n",
    "        if (i != len(cols) - 1):\n",
    "            tupString += \", \"\n",
    "    \n",
    "    return f\"The given INSERT query inserts a tuple with {tupString} into the {table_name} table.\""
   ]
  },
  {
   "cell_type": "code",
   "execution_count": 9,
   "metadata": {},
   "outputs": [
    {
     "name": "stdout",
     "output_type": "stream",
     "text": [
      "1. The given INSERT query is malformed. It does not specify a table.\n",
      "\n",
      "2. The given INSERT query inserts a tuple with id: 1, name: 'krish' into the students table.\n",
      "\n"
     ]
    }
   ],
   "source": [
    "query1 = \"INSERT INTO\"\n",
    "query2 = \"INSERT INTO students (id, name) VALUES (1, 'krish')\"\n",
    "\n",
    "queries = [query1, query2]\n",
    "explain_queries(queries)"
   ]
  },
  {
   "cell_type": "markdown",
   "metadata": {},
   "source": [
    "### WHERE, GROUP, ORDER"
   ]
  },
  {
   "cell_type": "code",
   "execution_count": 10,
   "metadata": {},
   "outputs": [],
   "source": [
    "import re"
   ]
  },
  {
   "cell_type": "code",
   "execution_count": 11,
   "metadata": {},
   "outputs": [],
   "source": [
    "def parse(query: str) -> str:\n",
    "    tokens = re.split(r'[ ,]', query)\n",
    "    tokens = [item for item in tokens if item]\n",
    "    command = tokens[0]\n",
    "    if (command == \"SELECT\"):\n",
    "        return parse_select(tokens)\n",
    "    elif (command == \"INSERT\"):\n",
    "        return parse_insert(tokens)\n",
    "    else:\n",
    "        return \"\"\n",
    "    \n",
    "def parse_select(tokens: list[str]) -> str:\n",
    "    try :\n",
    "        end_cols = tokens.index(\"FROM\")\n",
    "    except:\n",
    "        return \"The given SELECT query is malformed. It does not have a FROM clause.\"\n",
    "\n",
    "    res = handle_columns(tokens, end_cols)\n",
    "\n",
    "    try:\n",
    "        start_where = tokens.index(\"WHERE\")\n",
    "        res += '\\n' + handle_where(tokens, start_where)\n",
    "    except:\n",
    "        res = res\n",
    "    \n",
    "    try:\n",
    "        start_group = tokens.index(\"GROUP\")\n",
    "        res += '\\n' + handle_group(tokens, start_group)\n",
    "    except:\n",
    "        res = res\n",
    "\n",
    "    try:\n",
    "        start_order = tokens.index(\"ORDER\")\n",
    "        res += '\\n' + handle_order(tokens, start_order)\n",
    "    except:\n",
    "        res = res\n",
    "    \n",
    "    return res\n",
    "\n",
    "def handle_where(tokens: list[str], start_where: int) -> str:\n",
    "    \n",
    "    end_where = start_where\n",
    "    while (end_where < len(tokens) and tokens[end_where] != \"GROUP\" and tokens[end_where] != \"ORDER\"):\n",
    "        end_where += 1\n",
    "    where_tokens = tokens[start_where: end_where]\n",
    "    res = 'The query filters on the conditions: '\n",
    "    for i in range(1, len(where_tokens) - 1):\n",
    "        if (where_tokens[i] == '='):\n",
    "            res += where_tokens[i-1]\n",
    "            res += ' = '\n",
    "            res += where_tokens[i+1]\n",
    "            if (i < len(where_tokens) - 2):\n",
    "                res += \", \"\n",
    "    res += \".\"\n",
    "    return res\n",
    "\n",
    "def handle_group(tokens: list[str], start_group: int) -> str:\n",
    "    \n",
    "    end_group = start_group\n",
    "    while (end_group < len(tokens) and tokens[end_group] != \"ORDER\"):\n",
    "        end_group += 1\n",
    "    group_tokens = tokens[start_group: end_group]\n",
    "    if (len(group_tokens) <= 3):\n",
    "        res = 'The query groups on the ' \n",
    "        res += group_tokens[2]\n",
    "        res += ' column.'\n",
    "        return res\n",
    "    else:\n",
    "        res = 'The query groups on the columns: '\n",
    "        for i in range(2, len(group_tokens)):\n",
    "            res += group_tokens[i]\n",
    "            if i < len(group_tokens) - 1:\n",
    "                res += \", \"\n",
    "        res += \".\"\n",
    "        return res\n",
    "\n",
    "def handle_order(tokens: list[str], start_order: int) -> str:\n",
    "    order_tokens = tokens[start_order:]\n",
    "    if (len(order_tokens) <= 3):\n",
    "        res = 'The query orders on the '\n",
    "        res += order_tokens[2]\n",
    "        res += ' column.'\n",
    "        return res\n",
    "    else:\n",
    "        res = 'The query orders on the columns: '\n",
    "        for i in range(2, len(order_tokens)):\n",
    "            res += order_tokens[i]\n",
    "            if i < len(order_tokens) - 1:\n",
    "                res += \", \"\n",
    "        res += \".\"\n",
    "        print(res)\n",
    "        return res"
   ]
  },
  {
   "cell_type": "code",
   "execution_count": 12,
   "metadata": {},
   "outputs": [
    {
     "name": "stdout",
     "output_type": "stream",
     "text": [
      "1. The given query selects all columns from the students table.\n",
      "The query filters on the conditions: id = 1, name = Krish.\n",
      "The query groups on the class column.\n",
      "The query orders on the id column.\n",
      "\n",
      "2. The given query selects all columns from the students table.\n",
      "The query groups on the class column.\n",
      "The query orders on the id column.\n",
      "\n",
      "3. The given query selects all columns from the students table.\n",
      "The query filters on the conditions: id = 1, name = Krish.\n",
      "\n"
     ]
    }
   ],
   "source": [
    "query1 = \"SELECT * FROM students WHERE id = 1, name = Krish GROUP BY class ORDER BY id\"\n",
    "query2 = \"SELECT * FROM students GROUP BY class ORDER BY id\"\n",
    "query3 = \"SELECT * FROM students WHERE id = 1, name = Krish\"\n",
    "\n",
    "queries = [query1, query2, query3]\n",
    "explain_queries(queries)"
   ]
  },
  {
   "cell_type": "markdown",
   "metadata": {},
   "source": [
    "### Integration with EvaDB"
   ]
  },
  {
   "cell_type": "code",
   "execution_count": 5,
   "metadata": {},
   "outputs": [
    {
     "name": "stdout",
     "output_type": "stream",
     "text": [
      "Service `postgresql@14` already started, use `brew services restart postgresql@14` to restart.\n",
      "ERROR:  role \"eva\" already exists\n",
      "ERROR:  database \"evadb\" already exists\n",
      "\u001b[33mWARNING: You are using pip version 21.2.4; however, version 23.3 is available.\n",
      "You should consider upgrading via the '/Users/krishnathan/Documents/College/Fall 23/CS 6422/Project/evadb-project/evadb_env/bin/python -m pip install --upgrade pip' command.\u001b[0m\n",
      "Note: you may need to restart the kernel to use updated packages.\n",
      "Requirement already satisfied: psycopg2 in ./evadb_env/lib/python3.9/site-packages (2.9.9)\n",
      "\u001b[33mWARNING: You are using pip version 21.2.4; however, version 23.3 is available.\n",
      "You should consider upgrading via the '/Users/krishnathan/Documents/College/Fall 23/CS 6422/Project/evadb-project/evadb_env/bin/python -m pip install --upgrade pip' command.\u001b[0m\n",
      "Note: you may need to restart the kernel to use updated packages.\n"
     ]
    }
   ],
   "source": [
    "# !apt install postgresql\n",
    "!brew services start postgresql\n",
    "!psql postgres -c \"CREATE USER eva WITH SUPERUSER PASSWORD 'password'\"\n",
    "!psql postgres -c \"CREATE DATABASE evadb\"\n",
    "\n",
    "%pip install --quiet \"evadb[document]\"\n",
    "%pip install psycopg2\n",
    "\n",
    "import evadb\n",
    "cursor = evadb.connect().cursor()"
   ]
  },
  {
   "cell_type": "code",
   "execution_count": 35,
   "metadata": {},
   "outputs": [
    {
     "data": {
      "text/html": [
       "<div>\n",
       "<style scoped>\n",
       "    .dataframe tbody tr th:only-of-type {\n",
       "        vertical-align: middle;\n",
       "    }\n",
       "\n",
       "    .dataframe tbody tr th {\n",
       "        vertical-align: top;\n",
       "    }\n",
       "\n",
       "    .dataframe thead th {\n",
       "        text-align: right;\n",
       "    }\n",
       "</style>\n",
       "<table border=\"1\" class=\"dataframe\">\n",
       "  <thead>\n",
       "    <tr style=\"text-align: right;\">\n",
       "      <th></th>\n",
       "      <th>0</th>\n",
       "    </tr>\n",
       "  </thead>\n",
       "  <tbody>\n",
       "    <tr>\n",
       "      <th>0</th>\n",
       "      <td>postgres_data already exists, nothing added.</td>\n",
       "    </tr>\n",
       "  </tbody>\n",
       "</table>\n",
       "</div>"
      ],
      "text/plain": [
       "                                              0\n",
       "0  postgres_data already exists, nothing added."
      ]
     },
     "execution_count": 35,
     "metadata": {},
     "output_type": "execute_result"
    }
   ],
   "source": [
    "params = {\n",
    "    \"user\": \"eva\",\n",
    "    \"password\": \"password\",\n",
    "    \"host\": \"localhost\",\n",
    "    \"port\": \"5432\",\n",
    "    \"database\": \"evadb\",\n",
    "}\n",
    "query = f\"CREATE DATABASE IF NOT EXISTS postgres_data WITH ENGINE = 'postgres', PARAMETERS = {params};\"\n",
    "cursor.query(query).df()"
   ]
  },
  {
   "cell_type": "code",
   "execution_count": 39,
   "metadata": {},
   "outputs": [
    {
     "name": "stderr",
     "output_type": "stream",
     "text": [
      "10-17-2023 21:23:06 ERROR [plan_executor:plan_executor.py:execute_plan:0186] Error creating function EXPLAIN_SQL: Can't instantiate abstract class QueryParser with abstract methods name, setup\n",
      "Traceback (most recent call last):\n",
      "  File \"/Users/krishnathan/Documents/College/Fall 23/CS 6422/Project/evadb-project/evadb_env/lib/python3.9/site-packages/evadb/executor/create_function_executor.py\", line 436, in _try_initializing_function\n",
      "    function(**function_args)\n",
      "TypeError: Can't instantiate abstract class QueryParser with abstract methods name, setup\n",
      "\n",
      "During handling of the above exception, another exception occurred:\n",
      "\n",
      "Traceback (most recent call last):\n",
      "  File \"/Users/krishnathan/Documents/College/Fall 23/CS 6422/Project/evadb-project/evadb_env/lib/python3.9/site-packages/evadb/executor/plan_executor.py\", line 182, in execute_plan\n",
      "    yield from output\n",
      "  File \"/Users/krishnathan/Documents/College/Fall 23/CS 6422/Project/evadb-project/evadb_env/lib/python3.9/site-packages/evadb/executor/create_function_executor.py\", line 403, in exec\n",
      "    ) = self.handle_generic_function()\n",
      "  File \"/Users/krishnathan/Documents/College/Fall 23/CS 6422/Project/evadb-project/evadb_env/lib/python3.9/site-packages/evadb/executor/create_function_executor.py\", line 310, in handle_generic_function\n",
      "    function = self._try_initializing_function(impl_path)\n",
      "  File \"/Users/krishnathan/Documents/College/Fall 23/CS 6422/Project/evadb-project/evadb_env/lib/python3.9/site-packages/evadb/executor/create_function_executor.py\", line 440, in _try_initializing_function\n",
      "    raise RuntimeError(err_msg)\n",
      "RuntimeError: Error creating function EXPLAIN_SQL: Can't instantiate abstract class QueryParser with abstract methods name, setup\n"
     ]
    },
    {
     "ename": "ExecutorError",
     "evalue": "Error creating function EXPLAIN_SQL: Can't instantiate abstract class QueryParser with abstract methods name, setup",
     "output_type": "error",
     "traceback": [
      "\u001b[0;31m---------------------------------------------------------------------------\u001b[0m",
      "\u001b[0;31mTypeError\u001b[0m                                 Traceback (most recent call last)",
      "File \u001b[0;32m~/Documents/College/Fall 23/CS 6422/Project/evadb-project/evadb_env/lib/python3.9/site-packages/evadb/executor/create_function_executor.py:436\u001b[0m, in \u001b[0;36mCreateFunctionExecutor._try_initializing_function\u001b[0;34m(self, impl_path, function_args)\u001b[0m\n\u001b[1;32m    435\u001b[0m     \u001b[39m# initializing the function class calls the setup method internally\u001b[39;00m\n\u001b[0;32m--> 436\u001b[0m     function(\u001b[39m*\u001b[39;49m\u001b[39m*\u001b[39;49mfunction_args)\n\u001b[1;32m    437\u001b[0m \u001b[39mexcept\u001b[39;00m \u001b[39mException\u001b[39;00m \u001b[39mas\u001b[39;00m e:\n",
      "\u001b[0;31mTypeError\u001b[0m: Can't instantiate abstract class QueryParser with abstract methods name, setup",
      "\nDuring handling of the above exception, another exception occurred:\n",
      "\u001b[0;31mRuntimeError\u001b[0m                              Traceback (most recent call last)",
      "File \u001b[0;32m~/Documents/College/Fall 23/CS 6422/Project/evadb-project/evadb_env/lib/python3.9/site-packages/evadb/executor/plan_executor.py:182\u001b[0m, in \u001b[0;36mPlanExecutor.execute_plan\u001b[0;34m(self, do_not_raise_exceptions, do_not_print_exceptions)\u001b[0m\n\u001b[1;32m    181\u001b[0m     \u001b[39mif\u001b[39;00m output \u001b[39mis\u001b[39;00m \u001b[39mnot\u001b[39;00m \u001b[39mNone\u001b[39;00m:\n\u001b[0;32m--> 182\u001b[0m         \u001b[39myield from\u001b[39;00m output\n\u001b[1;32m    183\u001b[0m \u001b[39mexcept\u001b[39;00m \u001b[39mException\u001b[39;00m \u001b[39mas\u001b[39;00m e:\n",
      "File \u001b[0;32m~/Documents/College/Fall 23/CS 6422/Project/evadb-project/evadb_env/lib/python3.9/site-packages/evadb/executor/create_function_executor.py:403\u001b[0m, in \u001b[0;36mCreateFunctionExecutor.exec\u001b[0;34m(self, *args, **kwargs)\u001b[0m\n\u001b[1;32m    396\u001b[0m \u001b[39melse\u001b[39;00m:\n\u001b[1;32m    397\u001b[0m     (\n\u001b[1;32m    398\u001b[0m         name,\n\u001b[1;32m    399\u001b[0m         impl_path,\n\u001b[1;32m    400\u001b[0m         function_type,\n\u001b[1;32m    401\u001b[0m         io_list,\n\u001b[1;32m    402\u001b[0m         metadata,\n\u001b[0;32m--> 403\u001b[0m     ) \u001b[39m=\u001b[39m \u001b[39mself\u001b[39;49m\u001b[39m.\u001b[39;49mhandle_generic_function()\n\u001b[1;32m    405\u001b[0m \u001b[39mself\u001b[39m\u001b[39m.\u001b[39mcatalog()\u001b[39m.\u001b[39minsert_function_catalog_entry(\n\u001b[1;32m    406\u001b[0m     name, impl_path, function_type, io_list, metadata\n\u001b[1;32m    407\u001b[0m )\n",
      "File \u001b[0;32m~/Documents/College/Fall 23/CS 6422/Project/evadb-project/evadb_env/lib/python3.9/site-packages/evadb/executor/create_function_executor.py:310\u001b[0m, in \u001b[0;36mCreateFunctionExecutor.handle_generic_function\u001b[0;34m(self)\u001b[0m\n\u001b[1;32m    309\u001b[0m impl_path \u001b[39m=\u001b[39m \u001b[39mself\u001b[39m\u001b[39m.\u001b[39mnode\u001b[39m.\u001b[39mimpl_path\u001b[39m.\u001b[39mabsolute()\u001b[39m.\u001b[39mas_posix()\n\u001b[0;32m--> 310\u001b[0m function \u001b[39m=\u001b[39m \u001b[39mself\u001b[39;49m\u001b[39m.\u001b[39;49m_try_initializing_function(impl_path)\n\u001b[1;32m    311\u001b[0m io_list \u001b[39m=\u001b[39m \u001b[39mself\u001b[39m\u001b[39m.\u001b[39m_resolve_function_io(function)\n",
      "File \u001b[0;32m~/Documents/College/Fall 23/CS 6422/Project/evadb-project/evadb_env/lib/python3.9/site-packages/evadb/executor/create_function_executor.py:440\u001b[0m, in \u001b[0;36mCreateFunctionExecutor._try_initializing_function\u001b[0;34m(self, impl_path, function_args)\u001b[0m\n\u001b[1;32m    439\u001b[0m     \u001b[39m# logger.error(err_msg)\u001b[39;00m\n\u001b[0;32m--> 440\u001b[0m     \u001b[39mraise\u001b[39;00m \u001b[39mRuntimeError\u001b[39;00m(err_msg)\n\u001b[1;32m    442\u001b[0m \u001b[39mreturn\u001b[39;00m function\n",
      "\u001b[0;31mRuntimeError\u001b[0m: Error creating function EXPLAIN_SQL: Can't instantiate abstract class QueryParser with abstract methods name, setup",
      "\nDuring handling of the above exception, another exception occurred:\n",
      "\u001b[0;31mExecutorError\u001b[0m                             Traceback (most recent call last)",
      "\u001b[1;32m/Users/krishnathan/Documents/College/Fall 23/CS 6422/Project/evadb-project/explain_query_parser.ipynb Cell 19\u001b[0m line \u001b[0;36m7\n\u001b[1;32m      <a href='vscode-notebook-cell:/Users/krishnathan/Documents/College/Fall%2023/CS%206422/Project/evadb-project/explain_query_parser.ipynb#X24sZmlsZQ%3D%3D?line=0'>1</a>\u001b[0m query \u001b[39m=\u001b[39m \u001b[39m\"\"\"\u001b[39m\u001b[39mCREATE FUNCTION IF NOT EXISTS EXPLAIN_SQL\u001b[39m\n\u001b[1;32m      <a href='vscode-notebook-cell:/Users/krishnathan/Documents/College/Fall%2023/CS%206422/Project/evadb-project/explain_query_parser.ipynb#X24sZmlsZQ%3D%3D?line=1'>2</a>\u001b[0m \u001b[39mINPUT  (query INTEGER)\u001b[39m\n\u001b[1;32m      <a href='vscode-notebook-cell:/Users/krishnathan/Documents/College/Fall%2023/CS%206422/Project/evadb-project/explain_query_parser.ipynb#X24sZmlsZQ%3D%3D?line=2'>3</a>\u001b[0m \u001b[39mOUTPUT (explanation INTEGER)\u001b[39m\n\u001b[1;32m      <a href='vscode-notebook-cell:/Users/krishnathan/Documents/College/Fall%2023/CS%206422/Project/evadb-project/explain_query_parser.ipynb#X24sZmlsZQ%3D%3D?line=3'>4</a>\u001b[0m \u001b[39mTYPE  Classification\u001b[39m\n\u001b[1;32m      <a href='vscode-notebook-cell:/Users/krishnathan/Documents/College/Fall%2023/CS%206422/Project/evadb-project/explain_query_parser.ipynb#X24sZmlsZQ%3D%3D?line=4'>5</a>\u001b[0m \u001b[39mIMPL  \u001b[39m\u001b[39m'\u001b[39m\u001b[39m./query_parser.py\u001b[39m\u001b[39m'\u001b[39m\u001b[39m;\u001b[39m\n\u001b[1;32m      <a href='vscode-notebook-cell:/Users/krishnathan/Documents/College/Fall%2023/CS%206422/Project/evadb-project/explain_query_parser.ipynb#X24sZmlsZQ%3D%3D?line=5'>6</a>\u001b[0m \u001b[39m\"\"\"\u001b[39m\n\u001b[0;32m----> <a href='vscode-notebook-cell:/Users/krishnathan/Documents/College/Fall%2023/CS%206422/Project/evadb-project/explain_query_parser.ipynb#X24sZmlsZQ%3D%3D?line=6'>7</a>\u001b[0m cursor\u001b[39m.\u001b[39;49mquery(query)\u001b[39m.\u001b[39;49mdf()\n",
      "File \u001b[0;32m~/Documents/College/Fall 23/CS 6422/Project/evadb-project/evadb_env/lib/python3.9/site-packages/evadb/interfaces/relational/relation.py:110\u001b[0m, in \u001b[0;36mEvaDBQuery.df\u001b[0;34m(self)\u001b[0m\n\u001b[1;32m    104\u001b[0m \u001b[39mdef\u001b[39;00m \u001b[39mdf\u001b[39m(\u001b[39mself\u001b[39m) \u001b[39m-\u001b[39m\u001b[39m>\u001b[39m pandas\u001b[39m.\u001b[39mDataFrame:\n\u001b[1;32m    105\u001b[0m \u001b[39m    \u001b[39m\u001b[39m\"\"\"Execute and fetch all rows as a pandas DataFrame\u001b[39;00m\n\u001b[1;32m    106\u001b[0m \n\u001b[1;32m    107\u001b[0m \u001b[39m    Returns:\u001b[39;00m\n\u001b[1;32m    108\u001b[0m \u001b[39m        pandas.DataFrame:\u001b[39;00m\n\u001b[1;32m    109\u001b[0m \u001b[39m    \"\"\"\u001b[39;00m\n\u001b[0;32m--> 110\u001b[0m     batch \u001b[39m=\u001b[39m \u001b[39mself\u001b[39;49m\u001b[39m.\u001b[39;49mexecute()\n\u001b[1;32m    111\u001b[0m     \u001b[39massert\u001b[39;00m batch \u001b[39mis\u001b[39;00m \u001b[39mnot\u001b[39;00m \u001b[39mNone\u001b[39;00m, \u001b[39m\"\u001b[39m\u001b[39mrelation execute failed\u001b[39m\u001b[39m\"\u001b[39m\n\u001b[1;32m    112\u001b[0m     \u001b[39mreturn\u001b[39;00m batch\u001b[39m.\u001b[39mframes\n",
      "File \u001b[0;32m~/Documents/College/Fall 23/CS 6422/Project/evadb-project/evadb_env/lib/python3.9/site-packages/evadb/interfaces/relational/relation.py:120\u001b[0m, in \u001b[0;36mEvaDBQuery.execute\u001b[0;34m(self)\u001b[0m\n\u001b[1;32m    114\u001b[0m \u001b[39mdef\u001b[39;00m \u001b[39mexecute\u001b[39m(\u001b[39mself\u001b[39m) \u001b[39m-\u001b[39m\u001b[39m>\u001b[39m Batch:\n\u001b[1;32m    115\u001b[0m \u001b[39m    \u001b[39m\u001b[39m\"\"\"Transform the relation into a result set\u001b[39;00m\n\u001b[1;32m    116\u001b[0m \n\u001b[1;32m    117\u001b[0m \u001b[39m    Returns:\u001b[39;00m\n\u001b[1;32m    118\u001b[0m \u001b[39m        Batch: result as evadb Batch\u001b[39;00m\n\u001b[1;32m    119\u001b[0m \u001b[39m    \"\"\"\u001b[39;00m\n\u001b[0;32m--> 120\u001b[0m     result \u001b[39m=\u001b[39m execute_statement(\u001b[39mself\u001b[39;49m\u001b[39m.\u001b[39;49m_evadb, \u001b[39mself\u001b[39;49m\u001b[39m.\u001b[39;49m_query_node\u001b[39m.\u001b[39;49mcopy())\n\u001b[1;32m    121\u001b[0m     \u001b[39massert\u001b[39;00m result\u001b[39m.\u001b[39mframes \u001b[39mis\u001b[39;00m \u001b[39mnot\u001b[39;00m \u001b[39mNone\u001b[39;00m\n\u001b[1;32m    122\u001b[0m     \u001b[39mreturn\u001b[39;00m result\n",
      "File \u001b[0;32m~/Documents/College/Fall 23/CS 6422/Project/evadb-project/evadb_env/lib/python3.9/site-packages/evadb/server/command_handler.py:53\u001b[0m, in \u001b[0;36mexecute_statement\u001b[0;34m(evadb, stmt, do_not_raise_exceptions, do_not_print_exceptions, **kwargs)\u001b[0m\n\u001b[1;32m     49\u001b[0m output \u001b[39m=\u001b[39m PlanExecutor(evadb, physical_plan)\u001b[39m.\u001b[39mexecute_plan(\n\u001b[1;32m     50\u001b[0m     do_not_raise_exceptions, do_not_print_exceptions\n\u001b[1;32m     51\u001b[0m )\n\u001b[1;32m     52\u001b[0m \u001b[39mif\u001b[39;00m output:\n\u001b[0;32m---> 53\u001b[0m     batch_list \u001b[39m=\u001b[39m \u001b[39mlist\u001b[39;49m(output)\n\u001b[1;32m     54\u001b[0m     \u001b[39mreturn\u001b[39;00m Batch\u001b[39m.\u001b[39mconcat(batch_list, copy\u001b[39m=\u001b[39m\u001b[39mFalse\u001b[39;00m)\n",
      "File \u001b[0;32m~/Documents/College/Fall 23/CS 6422/Project/evadb-project/evadb_env/lib/python3.9/site-packages/evadb/executor/plan_executor.py:187\u001b[0m, in \u001b[0;36mPlanExecutor.execute_plan\u001b[0;34m(self, do_not_raise_exceptions, do_not_print_exceptions)\u001b[0m\n\u001b[1;32m    185\u001b[0m \u001b[39mif\u001b[39;00m do_not_print_exceptions \u001b[39mis\u001b[39;00m \u001b[39mFalse\u001b[39;00m:\n\u001b[1;32m    186\u001b[0m     logger\u001b[39m.\u001b[39mexception(\u001b[39mstr\u001b[39m(e))\n\u001b[0;32m--> 187\u001b[0m \u001b[39mraise\u001b[39;00m ExecutorError(e)\n",
      "\u001b[0;31mExecutorError\u001b[0m: Error creating function EXPLAIN_SQL: Can't instantiate abstract class QueryParser with abstract methods name, setup"
     ]
    }
   ],
   "source": [
    "query = \"\"\"CREATE FUNCTION IF NOT EXISTS EXPLAIN_SQL\n",
    "INPUT  (query INTEGER)\n",
    "OUTPUT (explanation INTEGER)\n",
    "TYPE  Classification\n",
    "IMPL  './query_parser.py';\n",
    "\"\"\"\n",
    "cursor.query(query).df()"
   ]
  },
  {
   "cell_type": "markdown",
   "metadata": {},
   "source": [
    "I'm still working out how to get the custom function definition correct. This would definitely be something to improve upon for the next iteration of this project"
   ]
  }
 ],
 "metadata": {
  "kernelspec": {
   "display_name": "evadb_env",
   "language": "python",
   "name": "python3"
  },
  "language_info": {
   "codemirror_mode": {
    "name": "ipython",
    "version": 3
   },
   "file_extension": ".py",
   "mimetype": "text/x-python",
   "name": "python",
   "nbconvert_exporter": "python",
   "pygments_lexer": "ipython3",
   "version": "3.9.6"
  }
 },
 "nbformat": 4,
 "nbformat_minor": 2
}
